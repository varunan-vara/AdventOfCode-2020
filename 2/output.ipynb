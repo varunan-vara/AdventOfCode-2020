{
 "cells": [
  {
   "cell_type": "code",
   "execution_count": 22,
   "metadata": {},
   "outputs": [],
   "source": [
    "#imports\n",
    "import re\n",
    "\n",
    "instructionspart1 = \"\"\"\n",
    "--- Day 2: Password Philosophy ---\n",
    "\n",
    "Your flight departs in a few days from the coastal airport; the easiest way down to the coast from here is via toboggan.\n",
    "\n",
    "The shopkeeper at the North Pole Toboggan Rental Shop is having a bad day. \"Something's wrong with our computers; we can't log in!\" You ask if you can take a look.\n",
    "\n",
    "Their password database seems to be a little corrupted: some of the passwords wouldn't have been allowed by the Official Toboggan Corporate Policy that was in effect when they were chosen.\n",
    "\n",
    "To try to debug the problem, they have created a list (your puzzle input) of passwords (according to the corrupted database) and the corporate policy when that password was set.\n",
    "\n",
    "For example, suppose you have the following list:\n",
    "\n",
    "1-3 a: abcde\n",
    "1-3 b: cdefg\n",
    "2-9 c: ccccccccc\n",
    "\n",
    "Each line gives the password policy and then the password. The password policy indicates the lowest and highest number of times a given letter must appear for the password to be valid. For example, 1-3 a means that the password must contain a at least 1 time and at most 3 times.\n",
    "\n",
    "In the above example, 2 passwords are valid. The middle password, cdefg, is not; it contains no instances of b, but needs at least 1. The first and third passwords are valid: they contain one a or nine c, both within the limits of their respective policies.\n",
    "\n",
    "How many passwords are valid according to their policies?\n",
    "\n",
    "To begin, get your puzzle input.\n",
    "\"\"\""
   ]
  },
  {
   "cell_type": "code",
   "execution_count": 26,
   "metadata": {},
   "outputs": [],
   "source": [
    "from collections import Counter\n",
    "\n",
    "num_valid = 0\n",
    "\n",
    "with open(r\"input.txt\") as openfileobject:\n",
    "    for line in openfileobject:\n",
    "        clean = line.replace(\":\", \"\").strip(\"\\n\").split(\" \")\n",
    "        lower_upper = clean[0].split(\"-\")\n",
    "        c = Counter()\n",
    "        for letter in clean[2]:\n",
    "            c[letter] +=1\n",
    "        if (c[clean[1]] >= int(lower_upper[0])) & (c[clean[1]] <= int(lower_upper[1])):\n",
    "            num_valid+=1"
   ]
  },
  {
   "cell_type": "code",
   "execution_count": 28,
   "metadata": {},
   "outputs": [
    {
     "data": {
      "text/plain": [
       "616"
      ]
     },
     "execution_count": 28,
     "metadata": {},
     "output_type": "execute_result"
    }
   ],
   "source": [
    "num_valid = 0\n",
    "\n",
    "with open(r\"input.txt\") as openfileobject:\n",
    "    for line in openfileobject:\n",
    "        clean = line.replace(\":\", \"\").strip(\"\\n\").split(\" \")\n",
    "        lower_upper = clean[0].split(\"-\")\n",
    "        string = clean[2][int(lower_upper[0])-1] + clean[2][int(lower_upper[1])-1]\n",
    "        same = [clean[1] == letter for letter in string]\n",
    "        if sum(same) == 1:\n",
    "            num_valid+=1\n",
    "num_valid"
   ]
  },
  {
   "cell_type": "code",
   "execution_count": null,
   "metadata": {},
   "outputs": [],
   "source": []
  }
 ],
 "metadata": {
  "kernelspec": {
   "display_name": "Python 3",
   "language": "python",
   "name": "python3"
  },
  "language_info": {
   "codemirror_mode": {
    "name": "ipython",
    "version": 3
   },
   "file_extension": ".py",
   "mimetype": "text/x-python",
   "name": "python",
   "nbconvert_exporter": "python",
   "pygments_lexer": "ipython3",
   "version": "3.7.6"
  }
 },
 "nbformat": 4,
 "nbformat_minor": 4
}
