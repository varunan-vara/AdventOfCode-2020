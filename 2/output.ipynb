{
 "cells": [
  {
   "cell_type": "code",
   "execution_count": 13,
   "metadata": {},
   "outputs": [],
   "source": [
    "#imports\n",
    "import re\n",
    "\n",
    "instructionspart1 = \"\"\"\n",
    "--- Day 2: Password Philosophy ---\n",
    "\n",
    "Your flight departs in a few days from the coastal airport; the easiest way down to the coast from here is via toboggan.\n",
    "\n",
    "The shopkeeper at the North Pole Toboggan Rental Shop is having a bad day. \"Something's wrong with our computers; we can't log in!\" You ask if you can take a look.\n",
    "\n",
    "Their password database seems to be a little corrupted: some of the passwords wouldn't have been allowed by the Official Toboggan Corporate Policy that was in effect when they were chosen.\n",
    "\n",
    "To try to debug the problem, they have created a list (your puzzle input) of passwords (according to the corrupted database) and the corporate policy when that password was set.\n",
    "\n",
    "For example, suppose you have the following list:\n",
    "\n",
    "1-3 a: abcde\n",
    "1-3 b: cdefg\n",
    "2-9 c: ccccccccc\n",
    "\n",
    "Each line gives the password policy and then the password. The password policy indicates the lowest and highest number of times a given letter must appear for the password to be valid. For example, 1-3 a means that the password must contain a at least 1 time and at most 3 times.\n",
    "\n",
    "In the above example, 2 passwords are valid. The middle password, cdefg, is not; it contains no instances of b, but needs at least 1. The first and third passwords are valid: they contain one a or nine c, both within the limits of their respective policies.\n",
    "\n",
    "How many passwords are valid according to their policies?\n",
    "\n",
    "To begin, get your puzzle input.\n",
    "\"\"\""
   ]
  },
  {
   "cell_type": "code",
   "execution_count": 30,
   "metadata": {},
   "outputs": [],
   "source": [
    "#Read lines \n",
    "file_handle = open(\"input.txt\",\"r\")\n",
    "#Put files from text file into list\n",
    "passwordlist = file_handle.readlines()\n",
    "#Create new class \"Password\"\n",
    "class Password:\n",
    "    #lbound is the lower boundary, hbound is the higher boundary\n",
    "    def __init__(self, lbound, hbound, letter, password):\n",
    "        self.lbound = lbound\n",
    "        self.hbound = hbound\n",
    "        self.letter = letter\n",
    "        self.password = password\n",
    "    #function to check how many times the \"letter\" occurs in \"password\"\n",
    "    #if \"data\" is in between the boundaries, returns true\n",
    "    def passwordcollect(self) :\n",
    "        data = self.password.count(self.letter)\n",
    "        if (self.lbound <= data <= self.hbound):\n",
    "            return (10 > 9)\n",
    "        else:\n",
    "            return (9 > 10)"
   ]
  },
  {
   "cell_type": "code",
   "execution_count": 31,
   "metadata": {},
   "outputs": [],
   "source": [
    "#temporary list\n",
    "templist = []\n",
    "#disect items and create new datatype Password for each line\n",
    "for items in passwordlist:\n",
    "    itemsplit = items.split(\" \")\n",
    "    char = re.sub(\":\", \"\", itemsplit[1])\n",
    "    wordrange = itemsplit[0].split(\"-\")\n",
    "    lowbound = int(wordrange[0])\n",
    "    highbound = int(wordrange[1])\n",
    "    _password = itemsplit[2]\n",
    "    templist.append(Password(lowbound, highbound, char, _password))"
   ]
  },
  {
   "cell_type": "code",
   "execution_count": 32,
   "metadata": {},
   "outputs": [
    {
     "data": {
      "text/plain": [
       "418"
      ]
     },
     "execution_count": 32,
     "metadata": {},
     "output_type": "execute_result"
    }
   ],
   "source": [
    "#Create a counter\n",
    "counter = 0\n",
    "#if, for each Password, the parameters are met, the counter increases\n",
    "for _data in templist:\n",
    "    if (_data.passwordcollect()):\n",
    "        counter += 1\n",
    "counter"
   ]
  },
  {
   "cell_type": "code",
   "execution_count": null,
   "metadata": {},
   "outputs": [],
   "source": [
    "#THEREFORE there are 418 correct passwords"
   ]
  },
  {
   "cell_type": "code",
   "execution_count": 33,
   "metadata": {},
   "outputs": [],
   "source": [
    "instructionspart2 = \"\"\"\n",
    "--- Part Two ---\n",
    "\n",
    "While it appears you validated the passwords correctly, they don't seem to be what the Official Toboggan Corporate Authentication System is expecting.\n",
    "\n",
    "The shopkeeper suddenly realizes that he just accidentally explained the password policy rules from his old job at the sled rental place down the street! The Official Toboggan Corporate Policy actually works a little differently.\n",
    "\n",
    "Each policy actually describes two positions in the password, where 1 means the first character, 2 means the second character, and so on. (Be careful; Toboggan Corporate Policies have no concept of \"index zero\"!) Exactly one of these positions must contain the given letter. Other occurrences of the letter are irrelevant for the purposes of policy enforcement.\n",
    "\n",
    "Given the same example list from above:\n",
    "\n",
    "    1-3 a: abcde is valid: position 1 contains a and position 3 does not.\n",
    "    1-3 b: cdefg is invalid: neither position 1 nor position 3 contains b.\n",
    "    2-9 c: ccccccccc is invalid: both position 2 and position 9 contain c.\n",
    "\n",
    "How many passwords are valid according to the new interpretation of the policies?\n",
    "\"\"\""
   ]
  },
  {
   "cell_type": "code",
   "execution_count": 50,
   "metadata": {},
   "outputs": [
    {
     "data": {
      "text/plain": [
       "616"
      ]
     },
     "execution_count": 50,
     "metadata": {},
     "output_type": "execute_result"
    }
   ],
   "source": [
    "#Create new function, with input self, to isolate for new condition\n",
    "counter = 0\n",
    "def newcondition(self) :\n",
    "    condition1 = (self.letter == self.password[self.lbound - 1])\n",
    "    condition2 = (self.letter == self.password[self.hbound - 1])\n",
    "    if (condition1 != condition2):\n",
    "        return (10 > 9)\n",
    "    else:\n",
    "        return (9 > 10)\n",
    "#add function to class\n",
    "setattr(Password,\"newcondition\", newcondition)\n",
    "#check data\n",
    "for _data in templist:\n",
    "    if(_data.newcondition()):\n",
    "        counter += 1\n",
    "counter"
   ]
  },
  {
   "cell_type": "code",
   "execution_count": null,
   "metadata": {},
   "outputs": [],
   "source": []
  }
 ],
 "metadata": {
  "kernelspec": {
   "display_name": "Python 3",
   "language": "python",
   "name": "python3"
  },
  "language_info": {
   "codemirror_mode": {
    "name": "ipython",
    "version": 3
   },
   "file_extension": ".py",
   "mimetype": "text/x-python",
   "name": "python",
   "nbconvert_exporter": "python",
   "pygments_lexer": "ipython3",
   "version": "3.7.6"
  }
 },
 "nbformat": 4,
 "nbformat_minor": 4
}
